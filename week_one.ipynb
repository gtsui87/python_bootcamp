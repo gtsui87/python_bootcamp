{
  "nbformat": 4,
  "nbformat_minor": 0,
  "metadata": {
    "colab": {
      "provenance": [],
      "toc_visible": true,
      "authorship_tag": "ABX9TyO54yEw3vHm5g7Vq9Tn+pJX",
      "include_colab_link": true
    },
    "kernelspec": {
      "name": "python3",
      "display_name": "Python 3"
    },
    "language_info": {
      "name": "python"
    }
  },
  "cells": [
    {
      "cell_type": "markdown",
      "metadata": {
        "id": "view-in-github",
        "colab_type": "text"
      },
      "source": [
        "<a href=\"https://colab.research.google.com/github/gtsui87/python_bootcamp/blob/main/week_one.ipynb\" target=\"_parent\"><img src=\"https://colab.research.google.com/assets/colab-badge.svg\" alt=\"Open In Colab\"/></a>"
      ]
    },
    {
      "cell_type": "code",
      "execution_count": null,
      "metadata": {
        "colab": {
          "base_uri": "https://localhost:8080/"
        },
        "id": "VSiZqhorR83q",
        "outputId": "11f092d0-3f3f-47f9-9418-d37d55e9afa2"
      },
      "outputs": [
        {
          "output_type": "stream",
          "name": "stdout",
          "text": [
            "{\"id\":\"ec7898bd8b4eeb3c8f681def68d74b5e\",\"text\":\"On an American one-dollar bill, there is an owl in the upper left-hand corner of the \\\"1\\\"encased in the \\\"shield\\\" and a spider hidden in the front upper right-hand corner.\",\"source\":\"djtech.net\",\"source_url\":\"http://www.djtech.net/humor/useless_facts.htm\",\"language\":\"en\",\"permalink\":\"https://uselessfacts.jsph.pl/api/v2/facts/ec7898bd8b4eeb3c8f681def68d74b5e\"}\n",
            "\n"
          ]
        }
      ],
      "source": [
        "import requests\n",
        "\n",
        "response = requests.get('https://uselessfacts.jsph.pl/random.json?language=en')\n",
        "\n",
        "print(response.text)"
      ]
    },
    {
      "cell_type": "markdown",
      "source": [
        "Below we go through a variation of the above code. in this example we define our query parameters in a separate dictionary. These are then passed as an arguement to the params parameter of requests.get().\n",
        "\n",
        "We also use response.json() instead of response.text to get the response data as a dictionary.\n",
        "\n",
        "Python dictionaries have a .get() method that can be used to grab a particular element, such as 'text' (this value depends on the API we are consuming)"
      ],
      "metadata": {
        "id": "9cH2Mj5Biv4I"
      }
    },
    {
      "cell_type": "code",
      "source": [
        "query_parameters = {\n",
        "    'language' : 'en'\n",
        "}\n",
        "\n",
        "response = requests.get('https://uselessfacts.jsph.pl/random.json', params=query_parameters)\n",
        "\n",
        "print(response.json().get('text'))"
      ],
      "metadata": {
        "id": "_BAnP7caTUOi",
        "colab": {
          "base_uri": "https://localhost:8080/"
        },
        "outputId": "24de8e7e-1c31-4022-d542-961525185c48"
      },
      "execution_count": null,
      "outputs": [
        {
          "output_type": "stream",
          "name": "stdout",
          "text": [
            "There are only four words in the English language which end in \"dous\": tremendous, horrendous, stupendous, and  hazardous.\n"
          ]
        }
      ]
    },
    {
      "cell_type": "markdown",
      "source": [
        "# Data Structures\n",
        "The **important** ones are lists, dictionaries, and sets."
      ],
      "metadata": {
        "id": "ySfp02lAky7d"
      }
    },
    {
      "cell_type": "code",
      "source": [
        "data = ['Caleb', 'You']\n",
        "print(data[0])\n",
        "\n",
        "data.append(['hello'])\n",
        "print(data)"
      ],
      "metadata": {
        "colab": {
          "base_uri": "https://localhost:8080/"
        },
        "id": "RN07dE3VkxjX",
        "outputId": "bafd441a-0b4a-4778-a7f8-f33376bd3b61"
      },
      "execution_count": null,
      "outputs": [
        {
          "output_type": "stream",
          "name": "stdout",
          "text": [
            "Caleb\n",
            "['Caleb', 'You', ['hello']]\n"
          ]
        }
      ]
    },
    {
      "cell_type": "markdown",
      "source": [
        "## List Slicing\n",
        "\n",
        "first number - starting position (inclusive).\n",
        "\n",
        "second number - stopping position (exclusive).\n",
        "\n",
        "third number - step"
      ],
      "metadata": {
        "id": "VTf9h9aCl29E"
      }
    },
    {
      "cell_type": "code",
      "source": [
        "data = ['Caleb', 'Jimmy', 'Samantha', 'Monica']\n",
        "\n",
        "print(data[1:4:2])"
      ],
      "metadata": {
        "colab": {
          "base_uri": "https://localhost:8080/"
        },
        "id": "4ttMN8-Nlb0r",
        "outputId": "9a301408-9d03-4f3f-82a8-2d7ea23d3bfc"
      },
      "execution_count": null,
      "outputs": [
        {
          "output_type": "stream",
          "name": "stdout",
          "text": [
            "['Jimmy', 'Monica']\n"
          ]
        }
      ]
    },
    {
      "cell_type": "markdown",
      "source": [
        "#Dictionaries and Sets"
      ],
      "metadata": {
        "id": "jUqgZsTPsKBh"
      }
    },
    {
      "cell_type": "code",
      "source": [
        "data = {'Caleb', 'Jimmy', 'Samantha', 'Monica', 'Caleb' }\n",
        "\n",
        "data_dictionary = {\n",
        "    'Caleb': 5,\n",
        "    'Jimmy': 10,\n",
        "    'Samantha': 12,\n",
        "    'Monica': 20,\n",
        "    'Caleb': 4\n",
        "}\n",
        "\n",
        "print(data)\n",
        "print(data_dictionary.get('Caleb'))"
      ],
      "metadata": {
        "colab": {
          "base_uri": "https://localhost:8080/"
        },
        "id": "qpT4L8gNsGj1",
        "outputId": "6ceb72df-ca34-4216-c5d4-55fb046a06d7"
      },
      "execution_count": null,
      "outputs": [
        {
          "output_type": "stream",
          "name": "stdout",
          "text": [
            "{'Samantha', 'Monica', 'Jimmy', 'Caleb'}\n",
            "4\n"
          ]
        }
      ]
    },
    {
      "cell_type": "markdown",
      "source": [
        "# Control flow - Loops and Conditionals\n",
        "\n",
        "Iteration - One time through the loop"
      ],
      "metadata": {
        "id": "FSWGI8Dm1Emm"
      }
    },
    {
      "cell_type": "code",
      "source": [
        "data = ['a', 'b','c', 'd', 'e']\n",
        "\n",
        "for i in range(10):\n",
        "  print(i, end=\" \")\n",
        "\n",
        "print(\" \")\n",
        "for letter in data:\n",
        "  print(letter, end=\" \")\n",
        "\n",
        "print(\" \")\n",
        "for idx,letter in enumerate(data):\n",
        "  print(idx,letter, end=\" \")"
      ],
      "metadata": {
        "colab": {
          "base_uri": "https://localhost:8080/"
        },
        "id": "K1PiS4wG1BXg",
        "outputId": "8d3c0195-ef60-4c3e-9c0c-131cbad49322"
      },
      "execution_count": null,
      "outputs": [
        {
          "output_type": "stream",
          "name": "stdout",
          "text": [
            "0 1 2 3 4 5 6 7 8 9  \n",
            "a b c d e  \n",
            "0 a 1 b 2 c 3 d 4 e "
          ]
        }
      ]
    },
    {
      "cell_type": "code",
      "source": [
        "data = ['a', 'b','c', 'd', 'e']\n",
        "\n",
        "i = 0\n",
        "\n",
        "while i < len(data):\n",
        "  print(data[i], end=\" \")\n",
        "  i += 1\n",
        "\n",
        "while True:\n",
        "  x = input()\n",
        "  if x == \"stop\":\n",
        "    break\n",
        "  elif x == \"special\":\n",
        "    continue\n",
        "  else:\n",
        "    print(\"it wasn't stop or special\")\n",
        "  print(\"printing data...\")\n"
      ],
      "metadata": {
        "colab": {
          "base_uri": "https://localhost:8080/"
        },
        "id": "A5KCtXH_3Zt5",
        "outputId": "8871a439-9b2a-483a-f48d-a0fe58d7d8eb"
      },
      "execution_count": null,
      "outputs": [
        {
          "name": "stdout",
          "output_type": "stream",
          "text": [
            "a b c d e g\n",
            "it wasn't stop or special\n",
            "printing data...\n",
            "special\n",
            "speica\n",
            "it wasn't stop or special\n",
            "printing data...\n",
            "stop\n"
          ]
        }
      ]
    },
    {
      "cell_type": "code",
      "source": [
        "data_dictionary = {\n",
        "    'Caleb': 5,\n",
        "    'Jimmy': 10,\n",
        "    'Samantha': 12,\n",
        "    'Monica': 20,\n",
        "    'Caleb': 4\n",
        "}\n",
        "\n",
        "print(data_dictionary)\n",
        "for key, value in data_dictionary.items():\n",
        "  print(key,value)"
      ],
      "metadata": {
        "colab": {
          "base_uri": "https://localhost:8080/"
        },
        "id": "S8CoLh4251Ou",
        "outputId": "50cf85b0-5afc-4e09-959e-084024f3158b"
      },
      "execution_count": null,
      "outputs": [
        {
          "output_type": "stream",
          "name": "stdout",
          "text": [
            "{'Caleb': 4, 'Jimmy': 10, 'Samantha': 12, 'Monica': 20}\n",
            "Caleb 4\n",
            "Jimmy 10\n",
            "Samantha 12\n",
            "Monica 20\n"
          ]
        }
      ]
    },
    {
      "cell_type": "markdown",
      "source": [
        "Guessing Game\n",
        "\n",
        "Generate a random number - random module\n",
        "do while - Python doesn't have this built in.\n",
        "do something once, possibly repeat it.\n",
        "Ask us for a number, If we get it wrong, ask again.\n",
        "\n",
        "logic for right/wrong: guessed == correct value."
      ],
      "metadata": {
        "id": "dAOUDXZ-6e8e"
      }
    },
    {
      "cell_type": "code",
      "source": [
        "from random import randint\n",
        "low = 0\n",
        "high = 100\n",
        "\n",
        "correct = randint(low,high)\n",
        "print(f\"Guess a number betwen {low} and {high}.\")\n",
        "\n",
        "while True:\n",
        "  guess = int(input())\n",
        "  # do something\n",
        "  # check to see if we shoudl do it again\n",
        "\n",
        "  if guess < correct:\n",
        "    print(\"Guess Higher\")\n",
        "  elif guess > correct:\n",
        "    print(\"Guess lower\")\n",
        "  else:\n",
        "    print(\"You win\")\n",
        "    break\n"
      ],
      "metadata": {
        "colab": {
          "base_uri": "https://localhost:8080/"
        },
        "id": "4MZmtMl76d34",
        "outputId": "9e34bea2-4933-404f-a951-ff88e2c191ca"
      },
      "execution_count": null,
      "outputs": [
        {
          "output_type": "stream",
          "name": "stdout",
          "text": [
            "Guess a number betwen 0 and 100\n",
            "50\n",
            "Guess lower\n",
            "30\n",
            "Guess lower\n",
            "20\n",
            "Guess lower\n",
            "10\n",
            "Guess lower\n",
            "5\n",
            "Guess Higher\n",
            "7\n",
            "You win\n"
          ]
        }
      ]
    }
  ]
}